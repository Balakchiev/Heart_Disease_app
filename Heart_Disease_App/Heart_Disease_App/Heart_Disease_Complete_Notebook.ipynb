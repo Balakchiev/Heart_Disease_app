{
 "cells": [
  {
   "cell_type": "code",
   "execution_count": null,
   "id": "8e2fc983",
   "metadata": {},
   "outputs": [],
   "source": [
    "# ----------------------------------------\n",
    "# 🧠 Step 1: Import Required Libraries\n",
    "# ----------------------------------------\n",
    "import pandas as pd\n",
    "import numpy as np\n",
    "import matplotlib.pyplot as plt\n",
    "import seaborn as sns\n",
    "\n",
    "from sklearn.model_selection import train_test_split, cross_val_score, GridSearchCV\n",
    "from sklearn.preprocessing import StandardScaler\n",
    "from sklearn.linear_model import LogisticRegression\n",
    "from sklearn.ensemble import RandomForestClassifier\n",
    "from sklearn.neighbors import KNeighborsClassifier\n",
    "from sklearn.svm import SVC\n",
    "from sklearn.metrics import classification_report, confusion_matrix, accuracy_score, roc_curve, auc\n",
    "import joblib\n"
   ]
  },
  {
   "cell_type": "code",
   "execution_count": null,
   "id": "845cf0e9",
   "metadata": {},
   "outputs": [],
   "source": [
    "# ----------------------------------------\n",
    "# 📥 Step 2: Load the Dataset\n",
    "# ----------------------------------------\n",
    "file_path = \"processed.cleveland.data\"\n",
    "\n",
    "columns = [\n",
    "    'age', 'sex', 'cp', 'trestbps', 'chol', 'fbs',\n",
    "    'restecg', 'thalach', 'exang', 'oldpeak',\n",
    "    'slope', 'ca', 'thal', 'target'\n",
    "]\n",
    "\n",
    "df = pd.read_csv(file_path, names=columns, na_values='?')\n",
    "df.dropna(inplace=True)\n",
    "df = df.astype({'ca': 'float64', 'thal': 'float64'})\n",
    "df['target'] = df['target'].apply(lambda x: 1 if int(x) > 0 else 0)\n"
   ]
  },
  {
   "cell_type": "code",
   "execution_count": null,
   "id": "f7ad0aaf",
   "metadata": {},
   "outputs": [],
   "source": [
    "# ----------------------------------------\n",
    "# 🧹 Step 3: Data Cleaning & Inspection\n",
    "# ----------------------------------------\n",
    "print(df.info())\n",
    "print(df.describe())\n",
    "print(df.isnull().sum())\n"
   ]
  },
  {
   "cell_type": "code",
   "execution_count": null,
   "id": "a91251d9",
   "metadata": {},
   "outputs": [],
   "source": [
    "# ----------------------------------------\n",
    "# 📊 Step 4: Exploratory Data Analysis (EDA)\n",
    "# ----------------------------------------\n",
    "sns.countplot(x='target', data=df)\n",
    "plt.title('Heart Disease Presence (1) vs Absence (0)')\n",
    "plt.show()\n",
    "\n",
    "sns.heatmap(df.corr(), annot=True, fmt=\".2f\", cmap='coolwarm')\n",
    "plt.title(\"Feature Correlation Heatmap\")\n",
    "plt.show()\n",
    "\n",
    "sns.boxplot(x='target', y='chol', data=df)\n",
    "plt.title('Cholesterol Levels vs Heart Disease')\n",
    "plt.show()\n"
   ]
  },
  {
   "cell_type": "code",
   "execution_count": null,
   "id": "99bd05fa",
   "metadata": {},
   "outputs": [],
   "source": [
    "# ----------------------------------------\n",
    "# 🏗️ Feature Engineering\n",
    "# ----------------------------------------\n",
    "df['age_group'] = pd.cut(df['age'], bins=[29, 40, 50, 60, 70, 80], labels=['30s', '40s', '50s', '60s', '70s'])\n",
    "df['chol_per_age'] = df['chol'] / df['age']\n",
    "df['thalach_cp'] = df['thalach'] * df['cp']\n",
    "df['age_oldpeak'] = df['age'] * df['oldpeak']\n",
    "df = pd.get_dummies(df, columns=['cp', 'thal', 'slope', 'age_group'], drop_first=True)\n"
   ]
  },
  {
   "cell_type": "code",
   "execution_count": null,
   "id": "8ca44fb5",
   "metadata": {},
   "outputs": [],
   "source": [
    "# ----------------------------------------\n",
    "# 🧪 Step 6: Preprocessing\n",
    "# ----------------------------------------\n",
    "X = df.drop('target', axis=1)\n",
    "y = df['target']\n",
    "\n",
    "scaler = StandardScaler()\n",
    "X_scaled = scaler.fit_transform(X)\n"
   ]
  },
  {
   "cell_type": "code",
   "execution_count": null,
   "id": "248bb1f6",
   "metadata": {},
   "outputs": [],
   "source": [
    "# ----------------------------------------\n",
    "# 📦 Step 7: Train-Test Split\n",
    "# ----------------------------------------\n",
    "X_train, X_test, y_train, y_test = train_test_split(X_scaled, y, test_size=0.2, random_state=42)\n"
   ]
  },
  {
   "cell_type": "code",
   "execution_count": null,
   "id": "abf9ece3",
   "metadata": {},
   "outputs": [],
   "source": [
    "# ----------------------------------------\n",
    "# 📊 Step 8: Model Comparison\n",
    "# ----------------------------------------\n",
    "models = {\n",
    "    'Logistic Regression': LogisticRegression(max_iter=1000),\n",
    "    'KNN': KNeighborsClassifier(),\n",
    "    'Random Forest': RandomForestClassifier(),\n",
    "    'SVM': SVC(kernel='linear', probability=True)\n",
    "}\n",
    "\n",
    "cv_results = {}\n",
    "for name, model in models.items():\n",
    "    scores = cross_val_score(model, X_scaled, y, cv=5, scoring='accuracy')\n",
    "    cv_results[name] = scores\n",
    "    print(f\"{name}: Mean Accuracy = {scores.mean():.4f}, Std = {scores.std():.4f}\")\n"
   ]
  },
  {
   "cell_type": "code",
   "execution_count": null,
   "id": "6afd018c",
   "metadata": {},
   "outputs": [],
   "source": [
    "# ----------------------------------------\n",
    "# 🛠️ Step 9: Hyperparameter Tuning\n",
    "# ----------------------------------------\n",
    "log_params = {'C': [0.01, 0.1, 1, 10], 'solver': ['liblinear', 'lbfgs']}\n",
    "knn_params = {'n_neighbors': [3, 5, 7, 9], 'weights': ['uniform', 'distance']}\n",
    "rf_params = {'n_estimators': [50, 100, 200], 'max_depth': [None, 4, 6], 'min_samples_split': [2, 5]}\n",
    "svm_params = {'C': [0.1, 1, 10], 'kernel': ['linear', 'rbf']}\n",
    "\n",
    "rf_model = GridSearchCV(RandomForestClassifier(), rf_params, cv=5, scoring='accuracy')\n",
    "rf_model.fit(X_scaled, y)\n",
    "print(\"Best Random Forest:\", rf_model.best_params_)\n",
    "\n",
    "# Save the best model and scaler\n",
    "joblib.dump(rf_model.best_estimator_, \"model_pro.pkl\")\n",
    "joblib.dump(scaler, \"scaler_pro.pkl\")\n"
   ]
  }
 ],
 "metadata": {},
 "nbformat": 4,
 "nbformat_minor": 5
}